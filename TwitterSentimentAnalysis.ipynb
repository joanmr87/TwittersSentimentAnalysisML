{
 "cells": [
  {
   "cell_type": "markdown",
   "id": "38b70808",
   "metadata": {},
   "source": [
    "# Enviroment setup and Log in to Twitter"
   ]
  },
  {
   "cell_type": "code",
   "execution_count": null,
   "id": "0b68a9af",
   "metadata": {},
   "outputs": [],
   "source": [
    "import selenium\n",
    "from selenium import webdriver\n",
    "from selenium.webdriver.common.by import By\n",
    "from selenium.webdriver.common.keys import Keys\n",
    "from time import sleep\n",
    "import getpass"
   ]
  },
  {
   "cell_type": "code",
   "execution_count": null,
   "id": "6bb53d71",
   "metadata": {},
   "outputs": [],
   "source": [
    "my_user = \"JoanMRomero\"\n",
    "my_pass = getpass.getpass()"
   ]
  },
  {
   "cell_type": "code",
   "execution_count": null,
   "id": "5e5b2f31",
   "metadata": {},
   "outputs": [],
   "source": [
    "search_item = \"bard\""
   ]
  },
  {
   "cell_type": "code",
   "execution_count": null,
   "id": "5da48e83",
   "metadata": {},
   "outputs": [],
   "source": [
    "PATH = \" C:\\Program Files\\Drivers\\chromedriver.exe\"\n",
    "driver = webdriver.Chrome(PATH)\n",
    "driver.get(\"https://twitter.com/i/flow/login\")\n",
    "# driver.maximize_window()\n",
    "sleep(3)"
   ]
  },
  {
   "cell_type": "code",
   "execution_count": null,
   "id": "a61c102d",
   "metadata": {},
   "outputs": [],
   "source": [
    "user_id = driver.find_element(By.XPATH, \"//input[@type='text']\")\n",
    "user_id.send_keys(my_user)\n",
    "user_id.send_keys(Keys.ENTER)"
   ]
  },
  {
   "cell_type": "code",
   "execution_count": null,
   "id": "4603ec47",
   "metadata": {},
   "outputs": [],
   "source": [
    "password = driver.find_element(By.XPATH, \"//input[@type='password']\") \n",
    "password.send_keys(my_pass)\n",
    "password.send_keys(Keys.ENTER)"
   ]
  },
  {
   "cell_type": "markdown",
   "id": "a2eb2043",
   "metadata": {},
   "source": [
    "\n",
    "# Scrape Tweets mentioning about \"search_item\""
   ]
  },
  {
   "cell_type": "code",
   "execution_count": null,
   "id": "f0a565c4",
   "metadata": {},
   "outputs": [],
   "source": [
    "search_box = driver.find_element(By.XPATH,\"//input[@data-testid='SearchBox_Search_Input']\")\n",
    "search_box.send_keys(search_item)\n",
    "search_box.send_keys(Keys.ENTER)"
   ]
  },
  {
   "cell_type": "code",
   "execution_count": null,
   "id": "ab0861fa",
   "metadata": {},
   "outputs": [],
   "source": [
    "all_tweets = set()\n",
    "\n",
    "\n",
    "tweets = driver.find_elements(By.XPATH,\"//div[@data-testid='tweetText']\")\n",
    "while True:\n",
    "    for tweet in tweets:\n",
    "        all_tweets.add(tweet.text)\n",
    "    driver.execute_script('window.scrollTo(0, document.body.scrollHeight);')\n",
    "    sleep(3)\n",
    "    tweets = driver.find_elements(By.XPATH,\"//div[@data-testid='tweetText']\")\n",
    "    if len(all_tweets)>50:\n",
    "        break"
   ]
  },
  {
   "cell_type": "code",
   "execution_count": null,
   "id": "76de67e8",
   "metadata": {},
   "outputs": [],
   "source": [
    "all_tweets = list(all_tweets)\n",
    "all_tweets[0]"
   ]
  },
  {
   "cell_type": "markdown",
   "id": "f1caff2e",
   "metadata": {},
   "source": [
    "# Cleaning the Tweets"
   ]
  },
  {
   "cell_type": "code",
   "execution_count": null,
   "id": "2625af10",
   "metadata": {},
   "outputs": [],
   "source": [
    "import pandas as pd\n",
    "pd.options.display.max_colwidth = 1000\n",
    "import re\n",
    "import nltk\n",
    "nltk.download('punkt')\n",
    "nltk.download('stopwords')\n",
    "\n",
    "from nltk.corpus import stopwords\n",
    "from nltk.tokenize import word_tokenize\n"
   ]
  },
  {
   "cell_type": "code",
   "execution_count": null,
   "id": "bf225680",
   "metadata": {},
   "outputs": [],
   "source": [
    "stp_words = stopwords.words('spanish')\n",
    "print(stp_words)"
   ]
  },
  {
   "cell_type": "code",
   "execution_count": null,
   "id": "ec0a7428",
   "metadata": {},
   "outputs": [],
   "source": [
    "df = pd.DataFrame(all_tweets, columns=['tweets'])\n",
    "df.head()"
   ]
  },
  {
   "cell_type": "code",
   "execution_count": null,
   "id": "822d5690",
   "metadata": {},
   "outputs": [],
   "source": [
    "one_tweet = df.iloc[4]['tweets']\n",
    "one_tweet"
   ]
  },
  {
   "cell_type": "code",
   "execution_count": null,
   "id": "e3dfc438",
   "metadata": {},
   "outputs": [],
   "source": [
    "from textblob import TextBlob\n",
    "from wordcloud import WordCloud\n",
    "\n",
    "def TweetCleaning(tweet):\n",
    "    cleanTweet = re.sub(r\"@[a-zA-Z0-9]+\",\"\",tweet)\n",
    "    cleanTweet = re.sub(r\"#[a-zA-Z0-9\\s]+\",\"\",cleanTweet)\n",
    "    cleanTweet = ' '.join(word for word in cleanTweet.split() if word not in stp_words)\n",
    "    return cleanTweet\n",
    "\n",
    "def calPolarity(tweet):\n",
    "    return TextBlob(tweet).sentiment.polarity\n",
    "\n",
    "def calSubjectivity(tweet):\n",
    "    return TextBlob(tweet).sentiment.subjectivity\n",
    "\n",
    "def segmentation(tweet):\n",
    "    if tweet > 0:\n",
    "        return \"positive\"\n",
    "    if tweet == 0:\n",
    "        return \"neutral\"\n",
    "    else:\n",
    "        return \"negative\""
   ]
  },
  {
   "cell_type": "code",
   "execution_count": null,
   "id": "9e718317",
   "metadata": {},
   "outputs": [],
   "source": [
    "df['cleanedTweets'] = df['tweets'].apply(TweetCleaning)\n",
    "df['tPolarity'] = df['cleanedTweets'].apply(calPolarity)\n",
    "df['tSubjectivity'] = df['cleanedTweets'].apply(calSubjectivity)\n",
    "df['segmentation'] = df['tPolarity'].apply(segmentation)\n",
    "df.head()"
   ]
  },
  {
   "cell_type": "markdown",
   "id": "091cd15d",
   "metadata": {},
   "source": [
    "# Analysis and Visualization"
   ]
  },
  {
   "cell_type": "code",
   "execution_count": null,
   "id": "ba7af30d",
   "metadata": {},
   "outputs": [],
   "source": [
    "df.pivot_table(index=['segmentation'], aggfunc={'segmentation':'count'})"
   ]
  },
  {
   "cell_type": "code",
   "execution_count": null,
   "id": "b7d7d88b",
   "metadata": {},
   "outputs": [],
   "source": [
    "# top 3 most positive\n",
    "df.sort_values(by=['tPolarity'], ascending=False).head(3)"
   ]
  },
  {
   "cell_type": "code",
   "execution_count": null,
   "id": "4db5bc24",
   "metadata": {},
   "outputs": [],
   "source": [
    "# top 3 most negative\n",
    "df.sort_values(by=['tPolarity'], ascending=True).head(3)"
   ]
  },
  {
   "cell_type": "code",
   "execution_count": null,
   "id": "68875d20",
   "metadata": {},
   "outputs": [],
   "source": [
    "# top 3 neutral\n",
    "df[df.tPolarity==0].head(3)"
   ]
  },
  {
   "cell_type": "code",
   "execution_count": null,
   "id": "fa859de0",
   "metadata": {},
   "outputs": [],
   "source": [
    "import matplotlib.pyplot as plt\n",
    "\n",
    "consolidated = ' '.join(word for word in df['cleanedTweets'])\n",
    "\n",
    "wordCloud = WordCloud(width=400, height=200, random_state=20, max_font_size=119).generate(consolidated)\n",
    "\n",
    "plt.imshow(wordCloud, interpolation='bilinear')\n",
    "plt.axis('off')\n",
    "plt.show()"
   ]
  },
  {
   "cell_type": "code",
   "execution_count": null,
   "id": "196a2a60",
   "metadata": {},
   "outputs": [],
   "source": [
    "import seaborn as sns"
   ]
  },
  {
   "cell_type": "code",
   "execution_count": null,
   "id": "5acd74f1",
   "metadata": {},
   "outputs": [],
   "source": [
    "sns.set_style(\"whitegrid\")\n",
    "sns.scatterplot(data=df, x='tPolarity', y='tSubjectivity', s=100, hue='segmentation')"
   ]
  },
  {
   "cell_type": "code",
   "execution_count": null,
   "id": "9cd9ddc1",
   "metadata": {},
   "outputs": [],
   "source": [
    "sns.countplot(data=df, x='segmentation')"
   ]
  },
  {
   "cell_type": "code",
   "execution_count": null,
   "id": "3a8d28e0",
   "metadata": {},
   "outputs": [],
   "source": []
  }
 ],
 "metadata": {
  "kernelspec": {
   "display_name": "Python 3 (ipykernel)",
   "language": "python",
   "name": "python3"
  },
  "language_info": {
   "codemirror_mode": {
    "name": "ipython",
    "version": 3
   },
   "file_extension": ".py",
   "mimetype": "text/x-python",
   "name": "python",
   "nbconvert_exporter": "python",
   "pygments_lexer": "ipython3",
   "version": "3.10.9"
  }
 },
 "nbformat": 4,
 "nbformat_minor": 5
}
